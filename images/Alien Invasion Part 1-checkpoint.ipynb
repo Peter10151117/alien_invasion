{
 "cells": [
  {
   "cell_type": "markdown",
   "id": "a27a3a83",
   "metadata": {},
   "source": [
    "<img src=\"https://www.usna.edu/WRC/_files/WRClogos/WRCE-logo-combined-01-crop.png\" width=\"200px\">\n",
    "\n",
    "# Alien Invasion (Chapters 12)\n",
    "\n",
    "Create a seperate file in your alien invasion game for each of the following questions. Paste the content of the file into a Jupyter Notebook cell along with a screen shot of the game (2 cells per answer: firscell is the code and second cell is the screenshot)"
   ]
  },
  {
   "cell_type": "markdown",
   "id": "f8474a56",
   "metadata": {},
   "source": [
    "**12-0. Dark Sky:** Make a Pygame window with a dark background"
   ]
  },
  {
   "cell_type": "code",
   "execution_count": null,
   "id": "2eda92b2",
   "metadata": {},
   "outputs": [],
   "source": [
    "# code\n"
   ]
  },
  {
   "cell_type": "markdown",
   "id": "a1004c6e",
   "metadata": {},
   "source": [
    "screen shot ![]()"
   ]
  },
  {
   "cell_type": "markdown",
   "id": "5dee5f06",
   "metadata": {},
   "source": [
    "**12-1-1. Blue Sky:** Make a Pygame window with a blue background\n",
    "\n",
    "Use this website https://htmlcolors.com/rgb-color to set a different background color\n",
    "bg_color = (Red_level, Green_level, Blue_level)"
   ]
  },
  {
   "cell_type": "code",
   "execution_count": null,
   "id": "8cb8214d",
   "metadata": {},
   "outputs": [],
   "source": [
    "# code\n"
   ]
  },
  {
   "cell_type": "markdown",
   "id": "978fa980",
   "metadata": {},
   "source": [
    "screen shot ![]()"
   ]
  },
  {
   "cell_type": "markdown",
   "id": "9c111732",
   "metadata": {},
   "source": [
    "**12-1-2. Settings class:** Make a class to store all settings for Alien Invasion \n",
    "\n",
    "- create a file settings.py to save the class\n",
    "- use the snippet of code bellow to set the parameters to initialize your game\n",
    "\n",
    "class Settings():\n",
    "    \"\"\"A class to store all settings for Alien Invasion.\"\"\"\n",
    "\n",
    "    def __init__(self):\n",
    "        \"\"\"Initialize the game's settings.\"\"\"\n",
    "        # Screen settings\n",
    "        self.screen_width = ??\n",
    "        self.screen_height = ??\n",
    "        self.bg_color = (??, ??, ??)\n",
    "- set the screen_width and screen_height to the values above: 400, 300        \n",
    "- set the background color screen to gray using the values (230, 230, 230)\n",
    "- modify your main python code to call the class you have just created in order to initialise your game\n",
    "- run your code to make sure you get the desired game settings"
   ]
  },
  {
   "cell_type": "code",
   "execution_count": null,
   "id": "e31af679",
   "metadata": {},
   "outputs": [],
   "source": [
    "# code\n"
   ]
  },
  {
   "cell_type": "markdown",
   "id": "5d016418",
   "metadata": {},
   "source": [
    "screen shot"
   ]
  },
  {
   "cell_type": "markdown",
   "id": "db53b5ed",
   "metadata": {},
   "source": [
    "**12-2-1. Game Character:** Download the images file containing the bitmap image of the ship and the aliens and put it inside your repository. \n",
    "\n",
    "- Add codes to draw the character at the center of the screen using the following hints\n",
    "\n",
    "hint 1: after you initialize your game screen, you need to prepare the ship image to be drawn\n",
    "```\n",
    "# Load the ship image and get its rect.\n",
    "image = pygame.image.load('images/ship.bmp')\n",
    "rect = image.get_rect()\n",
    "screen_rect = screen.get_rect()\n",
    "\n",
    "# Start each new ship at the center of the screen.\n",
    "rect.centerx = screen_rect.centerx\n",
    "rect.bottom = screen_rect.centery\n",
    "```\n",
    "hint 2: after your set the background color, you need to draw the ship\n",
    "```\n",
    "# Draw the ship at the location\n",
    "screen.blit(image, rect)\n",
    "```"
   ]
  },
  {
   "cell_type": "code",
   "execution_count": null,
   "id": "26b47e50",
   "metadata": {},
   "outputs": [],
   "source": [
    "# code\n"
   ]
  },
  {
   "cell_type": "markdown",
   "id": "08d86b3b",
   "metadata": {},
   "source": [
    "screen shot"
   ]
  },
  {
   "cell_type": "markdown",
   "id": "b2c4f216",
   "metadata": {},
   "source": [
    "**12-2-2. Game Character Class:** Use the code above to make a class named ship that draws the character at the center of the screen using the following hint\n",
    "\n",
    "- create a python file named ship.py\n",
    "- define a class named `Ship`\n",
    "- create a constructor with arguments \n",
    "\n",
    "```\n",
    "def __init__(self, screen):\n",
    "```\n",
    "\n",
    "    - initialize the ship and set its starting position.\n",
    "\n",
    "    start with `self.screen = screen`\n",
    "    \n",
    "    - load the ship image and get its rect. using the code above\n",
    "    - start each new ship at the center of the screen using the code above\n",
    "\n",
    "- add another method to draw the ship using the hint below\n",
    "```\n",
    "def blitme(self):\n",
    "    # Draw the ship at its current location\n",
    "```\n"
   ]
  },
  {
   "cell_type": "code",
   "execution_count": null,
   "id": "fc148f30",
   "metadata": {},
   "outputs": [],
   "source": [
    "# code\n"
   ]
  },
  {
   "cell_type": "markdown",
   "id": "87a28835",
   "metadata": {},
   "source": [
    "screen shot"
   ]
  },
  {
   "cell_type": "markdown",
   "id": "875b1f0b",
   "metadata": {},
   "source": [
    "**12-2-2. Draw Game Character now using the ship Class:** Modify your main code to import the class in order to draw the ship. Run the code to make sure you get teh same result as before."
   ]
  },
  {
   "cell_type": "code",
   "execution_count": null,
   "id": "e899c726",
   "metadata": {},
   "outputs": [],
   "source": [
    "# code\n"
   ]
  },
  {
   "cell_type": "markdown",
   "id": "66080441",
   "metadata": {},
   "source": [
    "screen shot"
   ]
  },
  {
   "cell_type": "markdown",
   "id": "1da3321b",
   "metadata": {},
   "source": [
    "**12-3-1. Game Character Class (bonus):** In the actual game, you might need to update the screen often to update the position of your characters or to add new features to your game. In addition, as you might have multiple lines of codes with some of them identical, it is a good programming practice to use functions instead of line of codes. On top of that you also want to use a class to class to manage game assets and behavior. Follow the steps below to proceed:\n",
    "\n",
    "- after importing the required libraries, define a class named `AlienInvasion` for your pygame\n",
    "- create a constructor to initialize the game and create game resources:\n",
    "    - start at `pygame.init()` and end at `ship = Ship(screen)` where you draw the ship\n",
    "    - make sure to add/replace `self` instance where appropriate\n",
    "- create a method name `run_game()` to write the main game code\n",
    "    - add an infinite loop to run the game\n",
    "    - add the following code to track for keyboard and mouse events\n",
    "    ```\n",
    "        # Watch for keyboard and mouse events.\n",
    "        for event in pygame.event.get():\n",
    "             if event.type == pygame.QUIT:\n",
    "                 sys.exit()\n",
    "    ```\n",
    "    - add thremaining lines of code to redraw the screen during each pass through the loop and to make the most recently drawn screen visible.\n",
    "    - to create a class object and run your main game code use the following codes\n",
    "    ```\n",
    "    if __name__ == '__main__':\n",
    "        # Make a game instance, and run the game.\n",
    "        ai = AlienInvasion()\n",
    "        ai.run_game()\n",
    "    ```"
   ]
  },
  {
   "cell_type": "code",
   "execution_count": null,
   "id": "7b7f5ccf",
   "metadata": {},
   "outputs": [],
   "source": [
    "# code\n"
   ]
  },
  {
   "cell_type": "markdown",
   "id": "7a92787f",
   "metadata": {},
   "source": [
    "screen shot"
   ]
  },
  {
   "cell_type": "markdown",
   "id": "e37c6ab9",
   "metadata": {},
   "source": [
    "**12-3-2. Game Character Class (bonus):** Download another bitmap image file containing a game charecter, or change a picture to bitmap, save it into the images folder inside the repository. \n",
    "\n",
    "- Create a new class to draw your character at the bottom of the screen\n",
    "- Match the background color of the image to the background color of the screen or vice versa (choose the easiest method)"
   ]
  },
  {
   "cell_type": "code",
   "execution_count": null,
   "id": "a3a662b8",
   "metadata": {},
   "outputs": [],
   "source": [
    "# code\n"
   ]
  },
  {
   "cell_type": "markdown",
   "id": "819df2bf",
   "metadata": {},
   "source": [
    "screen shot"
   ]
  },
  {
   "cell_type": "markdown",
   "id": "3a13ae4d",
   "metadata": {},
   "source": [
    "**12-4. Rocket:** Make a game that begins with a rocket in the center of the screen. Allow the player to move the rocket up, down, left, or right using the four arrow keys. Make sure the rocket never moves beyond any edge of the screen."
   ]
  },
  {
   "cell_type": "code",
   "execution_count": null,
   "id": "36da1ca2",
   "metadata": {},
   "outputs": [],
   "source": [
    "# code"
   ]
  },
  {
   "cell_type": "markdown",
   "id": "bf01631b",
   "metadata": {},
   "source": [
    "screen shot"
   ]
  },
  {
   "cell_type": "markdown",
   "id": "64f301bb",
   "metadata": {},
   "source": [
    "**12-5. Keys:** Make a Pygame file that creates an empty screen. In the event loop, print the `event.key` attribute whenever a `pygame.KEYDOWN` event is detected. Run the program and press various keys to see how Pygame responds. Your screen shot should be the text output from the Pycharm consolse (not the game screen)"
   ]
  },
  {
   "cell_type": "code",
   "execution_count": null,
   "id": "96e4137b",
   "metadata": {},
   "outputs": [],
   "source": [
    "# code"
   ]
  },
  {
   "cell_type": "markdown",
   "id": "90cbe6c7",
   "metadata": {},
   "source": [
    "screen shot"
   ]
  },
  {
   "cell_type": "markdown",
   "id": "89f48e50",
   "metadata": {},
   "source": [
    "**12-6. Sideways Shooter:** Write a game that places a ship on the left side of the screen and allows the player to move the ship up and down. Make the ship fire a bullet that travels right across the screen when the player presses the spacebar. Make sure the bullets are deleted once they disappear off the screen"
   ]
  },
  {
   "cell_type": "code",
   "execution_count": null,
   "id": "03770250",
   "metadata": {},
   "outputs": [],
   "source": [
    "# code"
   ]
  },
  {
   "cell_type": "markdown",
   "id": "23870754",
   "metadata": {},
   "source": [
    "screen shot"
   ]
  }
 ],
 "metadata": {
  "kernelspec": {
   "display_name": "Python 3 (ipykernel)",
   "language": "python",
   "name": "python3"
  },
  "language_info": {
   "codemirror_mode": {
    "name": "ipython",
    "version": 3
   },
   "file_extension": ".py",
   "mimetype": "text/x-python",
   "name": "python",
   "nbconvert_exporter": "python",
   "pygments_lexer": "ipython3",
   "version": "3.9.12"
  }
 },
 "nbformat": 4,
 "nbformat_minor": 5
}
