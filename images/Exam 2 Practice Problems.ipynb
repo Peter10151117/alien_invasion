{
 "cells": [
  {
   "cell_type": "markdown",
   "id": "c4f3a4ac",
   "metadata": {},
   "source": [
    "<img src=\"https://www.usna.edu/WRC/_files/WRClogos/WRCE-logo-combined-01-crop.png\" width=\"200px\">\n",
    "\n",
    "# EW200: Intro To Programming: 12 Weeks Exam Review\n",
    "\n",
    "## Instructions:  \n",
    "•\tExam 2 is 50 minutes. \n",
    "\n",
    "•\tExam is closed book, closed notes, but you are allowed one 8.5” x 11” piece of paper with your own handwritten notes on both side (front and back). This will be checked by your instructor.\n",
    "\n",
    "•\tThe only material you are allowed to use is your handwritten notes. You must not access any page on your computer or phone at any time.  \n",
    "\n",
    "•\tWhen finished, return your exam sheet and any handwritten notes to your instructor and leave the room quietly.  "
   ]
  },
  {
   "cell_type": "markdown",
   "id": "66c77402",
   "metadata": {},
   "source": [
    "## Part 1: Functions"
   ]
  },
  {
   "cell_type": "markdown",
   "id": "d4c5b697",
   "metadata": {},
   "source": [
    "**A.** Create a function called `travelled_distance` that accepts two parameters called `speed` and `time`. This function should print an object traveled distance. For example if the object has a speed of 0.1 inches/s and travelled for 10s, then `travelled_distance` should print the line \n",
    "    \n",
    "    The object travelled 1.0 inches"
   ]
  },
  {
   "cell_type": "code",
   "execution_count": null,
   "id": "52c0d873",
   "metadata": {},
   "outputs": [],
   "source": []
  },
  {
   "cell_type": "markdown",
   "id": "489c81ad",
   "metadata": {},
   "source": [
    "**B.** Create another function called `time_convertion` that accepts two parameters called `time` and `time_unit`. This function should return the time converted from either hours `h` or minutes `min` to seconds, otherwise it should return the time in seconds if the time is given in seconds `s` or print a warning message about the time unit. Make sure your function run well using 3 different examples for each time unit."
   ]
  },
  {
   "cell_type": "code",
   "execution_count": null,
   "id": "5409a1e7",
   "metadata": {},
   "outputs": [],
   "source": []
  },
  {
   "cell_type": "markdown",
   "id": "4ff770d5",
   "metadata": {},
   "source": [
    "**C.** Modify the function `travelled_distance` above to accept another parameters called `time_unit`, check for the time units, convert to the appropriate unit prior to computing the travelled distance using the `time_convertion` function. Note add a statement to prevent processing the travelled distance if time unit is inconrrect."
   ]
  },
  {
   "cell_type": "code",
   "execution_count": null,
   "id": "a3e9b67d",
   "metadata": {},
   "outputs": [],
   "source": []
  },
  {
   "cell_type": "markdown",
   "id": "3182476d",
   "metadata": {},
   "source": [
    "**D.** Use a loop to call the newly created `travelled_distance` function to calculate the travelled distance for an object that has a speed of .1 inches/s and has made the follwing trips saved as a dictionnary\n",
    "```trips_dict = {\n",
    "        'trip1' : {'time': 10, 'unit': 's'}, \n",
    "        'trip2' : {'time': 10, 'unit': 'min'}, \n",
    "        'trip3' : {'time': 10, 'unit': 'h'}\n",
    "        }\n",
    "```"
   ]
  },
  {
   "cell_type": "code",
   "execution_count": null,
   "id": "85426f93",
   "metadata": {},
   "outputs": [],
   "source": []
  },
  {
   "cell_type": "markdown",
   "id": "46929118",
   "metadata": {},
   "source": [
    "**E.** Write a function that extract each value inside the main dictionary `trips_dict` above and return a list of dictionary values as \n",
    "\n",
    "```trips_list = [{'time': 10, 'unit': 's'}, {'time': 10, 'unit': 'min'}, {'time': 10, 'unit': 'h'}]```"
   ]
  },
  {
   "cell_type": "code",
   "execution_count": null,
   "id": "79674243",
   "metadata": {},
   "outputs": [],
   "source": []
  },
  {
   "cell_type": "markdown",
   "id": "b3199d9d",
   "metadata": {},
   "source": [
    "**F.** Write a loop that will go over the list of trips saved in `trips_list` to calculate and print out the sum of all travelled times in seconds using the function `time_convertion` for all trips made by the object in the list."
   ]
  },
  {
   "cell_type": "code",
   "execution_count": null,
   "id": "ad23941d",
   "metadata": {},
   "outputs": [],
   "source": []
  },
  {
   "cell_type": "markdown",
   "id": "61273d78",
   "metadata": {},
   "source": [
    "**G.** Assume that you have saved all functions made above `travelled_distance` and `time_convertion`,   to the same python file named `travelled_distance_method.py`, show a method to import the method defined to perform the calculations the travelled distance and time convertion."
   ]
  },
  {
   "cell_type": "code",
   "execution_count": null,
   "id": "db9680dd",
   "metadata": {},
   "outputs": [],
   "source": [
    "# prior to running this cell, create a file named travelled_distance_method.py where you copy and paste both functions\n"
   ]
  },
  {
   "cell_type": "markdown",
   "id": "a48df121",
   "metadata": {},
   "source": [
    "**H.** Assume you are the software Engineer of a company and are given the function below that stores information about a car in a dictionary. One of your employee complains about teh code not working. Can you help in fixing the issues?\n",
    "\n",
    "```\n",
    "def make_car(manufacturer, model, **options) \n",
    "    \"\"\"Make a dictionary representing a car.\"\"\"\n",
    "    car_dict = {\n",
    "        'manufacturer': manufacturer.title(),\n",
    "        'model': model.title(),\n",
    "        }\n",
    "    for option, value in options.values(): \n",
    "        car_dict[option] = value\n",
    "\n",
    "    return car_dict\n",
    "\n",
    "my_outback = make_car('subaru', 'outback', color='blue', tow_package=True)\n",
    "print(my_outback)\n",
    "\n",
    "my_old_accord = make_car('honda', 'accord', year=1991, color='white',\n",
    "        headlights='popup')\n",
    "print(my_old_accord)\n",
    "```\n",
    "\n",
    "The code must output:\n",
    "\n",
    "{'manufacturer': 'Subaru', 'model': 'Outback', 'color': 'blue', 'tow_package': True}\n",
    "{'manufacturer': 'Honda', 'model': 'Accord', 'year': 1991, 'color': 'white', 'headlights': 'popup'}"
   ]
  },
  {
   "cell_type": "code",
   "execution_count": null,
   "id": "c76c5cb8",
   "metadata": {},
   "outputs": [],
   "source": []
  },
  {
   "cell_type": "markdown",
   "id": "6cbb82a0",
   "metadata": {},
   "source": [
    "## Part 2: Classes"
   ]
  },
  {
   "cell_type": "markdown",
   "id": "081615dd",
   "metadata": {},
   "source": [
    "**A.** Create a class named Person, use the class constructor to assign values for name and age. Create two instances of the Person class."
   ]
  },
  {
   "cell_type": "code",
   "execution_count": null,
   "id": "c9326743",
   "metadata": {},
   "outputs": [],
   "source": []
  },
  {
   "cell_type": "markdown",
   "id": "1254b34b",
   "metadata": {},
   "source": [
    "In the class created above, what parameter is the current instance of the class and how it is usefull for a class? What will happen if you replace the name `self` by something else? \n"
   ]
  },
  {
   "cell_type": "markdown",
   "id": "c67d1ba9",
   "metadata": {},
   "source": [
    "*The self parameter is a reference to the current instance of the class, and is used to access variables that belongs to the class. The name self can be replaced by any other name.*"
   ]
  },
  {
   "cell_type": "markdown",
   "id": "297799bb",
   "metadata": {},
   "source": [
    "**B.**  Add a method `greet` to the above class to great the person with an optional greetings argument of your choice named `greetings`. Note method `greet` should print a message as `John, hello!`. Create an instance of the Person class and use it to greet the person using teh default greeting message and a different one."
   ]
  },
  {
   "cell_type": "code",
   "execution_count": null,
   "id": "2aaf4a78",
   "metadata": {},
   "outputs": [],
   "source": []
  },
  {
   "cell_type": "markdown",
   "id": "29f0c24f",
   "metadata": {},
   "source": [
    "**C.**  Add a method `info` to the above class to print all informations about the person as `John, Hi, you are young` if person age is less than 30 otherwise print out `John, Hi, you are young`. Note that the new method must use the method `greet` to print out the greetings. Create and instance of Person class and use the newly created method to display either messages."
   ]
  },
  {
   "cell_type": "code",
   "execution_count": null,
   "id": "68f9b4f4",
   "metadata": {},
   "outputs": [],
   "source": []
  },
  {
   "cell_type": "markdown",
   "id": "0450433d",
   "metadata": {},
   "source": [
    "**D.**  How can you change the code in **C.** to print out a different greetings while still printing out a default greetings? After changing the code, create an instance of the Person class and use appropriate lines of codes to display a message including a greeting different from the default one."
   ]
  },
  {
   "cell_type": "code",
   "execution_count": null,
   "id": "cee08a43",
   "metadata": {},
   "outputs": [],
   "source": []
  },
  {
   "cell_type": "markdown",
   "id": "ef6990fe",
   "metadata": {},
   "source": [
    "**D.** Spot errors in the code below\n",
    "```\n",
    "class Restaurant():\n",
    "    \"\"\"A class representing a restaurant.\"\"\"\n",
    "\n",
    "    def __int__(self, name, cuisine_type):\n",
    "        \"\"\"Initialize the restaurant.\"\"\"\n",
    "        self.name = name.title()\n",
    "        self.cuisine_type = cuisine_type\n",
    "\n",
    "    def describe_restaurant(selfy):\n",
    "        \"\"\"Display a summary of the restaurant.\"\"\"\n",
    "        msg = f\"{self.name} serves wonderful {self.cuisine_type}.\"\n",
    "        print(f\"\\n{msg}\")\n",
    "\n",
    "    def open_restaurant(self):\n",
    "        \"\"\"Display a message that the restaurant is open.\"\"\"\n",
    "        msg = f\"{name} is open. Come on in!\"\n",
    "        print(f\"\\n{self.msg}\")\n",
    "\n",
    "restaurant = Restaurant('the maestro', 'hot-dog')\n",
    "print(restaurant.name)\n",
    "print(restaurant.cuisine_type)\n",
    "\n",
    "restaurant.describe_restaurant()\n",
    "restaurant.open_restaurant()\n",
    "```"
   ]
  },
  {
   "cell_type": "code",
   "execution_count": null,
   "id": "473835dc",
   "metadata": {},
   "outputs": [],
   "source": []
  },
  {
   "cell_type": "markdown",
   "id": "efb59767",
   "metadata": {},
   "source": [
    "# Part 3: Pygame\n",
    "\n",
    "**A.** As a software developper, you have developped the code below for a pygame video game. In order to transfer the code to other engineers, you are required to add comment to a few line of codes below by filling out the missing ????\n",
    "\n",
    "```\n",
    "import sys\n",
    "import pygame\n",
    "\n",
    "# ???\n",
    "pygame.init()\n",
    "\n",
    "# ????\n",
    "size = width, height = 320, 200\n",
    "screen = pygame.display.set_mode(size)\n",
    "window_title = \"My game\"\n",
    "pygame.display.set_caption(window_title)\n",
    "\n",
    "# ????\n",
    "smilie = pygame.image.load(\"smilie.png\")\n",
    "smilie_rect = smilie.get_rect()\n",
    "\n",
    "speed = [2, 1]\n",
    "black = 0, 0, 0\n",
    "\n",
    "smilie = smilie.convert()\n",
    "colorkey = smilie.get_at((1,1))\n",
    "smilie.set_colorkey(colorkey, pygame.RLEACCEL)\n",
    "\n",
    "# main loop\n",
    "while True:\n",
    "    # ????\n",
    "    for event in pygame.event.get():\n",
    "       if event.type == pygame.QUIT:\n",
    "           sys.exit()\n",
    "           \n",
    "    # move object\n",
    "    smilie_rect.move_ip(speed)\n",
    "    if smilie_rect.left + 10 < 0 or smilie_rect.right - 11 > width:\n",
    "        speed[0] = -speed[0] # ????\n",
    "    if smilie_rect.top + 10 < 0 or smilie_rect.bottom - 12 > height:\n",
    "        speed[1] = -speed[1] #????\n",
    "    pygame.time.delay(10)\n",
    "    \n",
    "    # update image\n",
    "    screen.fill(black) # ????\n",
    "    screen.blit(smilie, smilie_rect) # ????\n",
    "    pygame.display.flip() # ????\n",
    "```"
   ]
  },
  {
   "cell_type": "code",
   "execution_count": null,
   "id": "92155b59",
   "metadata": {},
   "outputs": [],
   "source": []
  },
  {
   "cell_type": "markdown",
   "id": "843195b3",
   "metadata": {},
   "source": [
    "**B.** Without running the code above, can you guess what it is does by looking carefully at the main loop?"
   ]
  },
  {
   "cell_type": "markdown",
   "id": "d6cb0418",
   "metadata": {},
   "source": []
  }
 ],
 "metadata": {
  "kernelspec": {
   "display_name": "Python 3 (ipykernel)",
   "language": "python",
   "name": "python3"
  },
  "language_info": {
   "codemirror_mode": {
    "name": "ipython",
    "version": 3
   },
   "file_extension": ".py",
   "mimetype": "text/x-python",
   "name": "python",
   "nbconvert_exporter": "python",
   "pygments_lexer": "ipython3",
   "version": "3.9.12"
  }
 },
 "nbformat": 4,
 "nbformat_minor": 5
}
